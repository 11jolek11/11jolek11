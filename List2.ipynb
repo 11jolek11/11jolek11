{
  "nbformat": 4,
  "nbformat_minor": 0,
  "metadata": {
    "colab": {
      "provenance": [],
      "authorship_tag": "ABX9TyONyJUguBzh98ys2b9nn7xj",
      "include_colab_link": true
    },
    "kernelspec": {
      "name": "python3",
      "display_name": "Python 3"
    },
    "language_info": {
      "name": "python"
    }
  },
  "cells": [
    {
      "cell_type": "markdown",
      "metadata": {
        "id": "view-in-github",
        "colab_type": "text"
      },
      "source": [
        "<a href=\"https://colab.research.google.com/github/11jolek11/11jolek11/blob/main/List2.ipynb\" target=\"_parent\"><img src=\"https://colab.research.google.com/assets/colab-badge.svg\" alt=\"Open In Colab\"/></a>"
      ]
    },
    {
      "cell_type": "code",
      "execution_count": 11,
      "metadata": {
        "colab": {
          "base_uri": "https://localhost:8080/"
        },
        "id": "yudliWZEdoif",
        "outputId": "700c34f0-cd27-4ebd-a025-04c022b161c6"
      },
      "outputs": [
        {
          "output_type": "stream",
          "name": "stdout",
          "text": [
            "Looking in indexes: https://pypi.org/simple, https://us-python.pkg.dev/colab-wheels/public/simple/\n",
            "Requirement already satisfied: flake8 in /usr/local/lib/python3.8/dist-packages (6.0.0)\n",
            "Requirement already satisfied: pycodestyle<2.11.0,>=2.10.0 in /usr/local/lib/python3.8/dist-packages (from flake8) (2.10.0)\n",
            "Requirement already satisfied: pyflakes<3.1.0,>=3.0.0 in /usr/local/lib/python3.8/dist-packages (from flake8) (3.0.1)\n",
            "Requirement already satisfied: mccabe<0.8.0,>=0.7.0 in /usr/local/lib/python3.8/dist-packages (from flake8) (0.7.0)\n",
            "Looking in indexes: https://pypi.org/simple, https://us-python.pkg.dev/colab-wheels/public/simple/\n",
            "Requirement already satisfied: pycodestyle in /usr/local/lib/python3.8/dist-packages (2.10.0)\n",
            "Requirement already satisfied: pycodestyle_magic in /usr/local/lib/python3.8/dist-packages (0.5)\n",
            "The pycodestyle_magic extension is already loaded. To reload it, use:\n",
            "  %reload_ext pycodestyle_magic\n"
          ]
        }
      ],
      "source": [
        "# # install\n",
        "!pip install flake8\n",
        "!pip install pycodestyle pycodestyle_magic\n",
        "\n",
        "\n",
        "# # load\n",
        "%load_ext pycodestyle_magic\n",
        "\n",
        "%pycodestyle_on"
      ]
    },
    {
      "cell_type": "code",
      "source": [
        "\n",
        "from sklearn.linear_model import LinearRegression\n",
        "from sklearn.preprocessing import PolynomialFeatures\n",
        "from sklearn.linear_model import Ridge\n",
        "from sklearn.linear_model import RidgeCV\n",
        "from sklearn.datasets import make_regression\n",
        "from sklearn.model_selection import train_test_split\n",
        "from sklearn.metrics import mean_squared_error\n",
        "import matplotlib.pyplot as plt\n",
        "import numpy as np\n",
        "\n",
        "%matplotlib inline"
      ],
      "metadata": {
        "id": "jESlHFO_d_Jw"
      },
      "execution_count": 12,
      "outputs": []
    },
    {
      "cell_type": "markdown",
      "source": [
        "# Zadanie 1"
      ],
      "metadata": {
        "id": "dQdMOIQ2eBI-"
      }
    },
    {
      "cell_type": "code",
      "source": [
        "# (1/np.sqrt(np.pi)*4)*(e**(-0.5((x-7)/2)^2))"
      ],
      "metadata": {
        "colab": {
          "base_uri": "https://localhost:8080/"
        },
        "id": "2HoXVbAaeFCw",
        "outputId": "adce75f3-76f6-45b3-bae5-2233a1d33fde"
      },
      "execution_count": 15,
      "outputs": [
        {
          "output_type": "stream",
          "name": "stderr",
          "text": [
            "INFO:pycodestyle:9:80: E501 line too long (99 > 79 characters)\n",
            "INFO:pycodestyle:9:80: E501 line too long (99 > 79 characters)\n"
          ]
        }
      ]
    },
    {
      "cell_type": "code",
      "source": [
        "def generate_bell_data(n=15, a=0, b=10):\n",
        "    X = np.linspace(a, b, n)\n",
        "    y = (1/np.sqrt(np.pi)*4)*(np.e**(-0.5*((X-7)/2)**2))\n",
        "    return X, y\n",
        "\n",
        "\n",
        "x_data, y_data = generate_bell_data()\n",
        "\n",
        "plt.scatter(x_data, y_data)\n",
        "plt.show()"
      ],
      "metadata": {
        "colab": {
          "base_uri": "https://localhost:8080/",
          "height": 265
        },
        "id": "F70vTL0NePvJ",
        "outputId": "cc8b4655-da18-41c0-a006-874b0fcf2e8a"
      },
      "execution_count": 39,
      "outputs": [
        {
          "output_type": "display_data",
          "data": {
            "text/plain": [
              "<Figure size 432x288 with 1 Axes>"
            ],
            "image/png": "[encoded data removed]"
          },
          "metadata": {
            "needs_background": "light"
          }
        }
      ]
    }
  ]
}